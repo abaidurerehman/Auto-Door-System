{
 "cells": [
  {
   "cell_type": "code",
   "execution_count": 1,
   "id": "3c29e53e-a940-4e26-ab32-b4010bde3106",
   "metadata": {},
   "outputs": [
    {
     "name": "stdout",
     "output_type": "stream",
     "text": [
      "Requirement already satisfied: numpy in e:\\anaconda3\\lib\\site-packages (1.26.4)\n",
      "Requirement already satisfied: pandas in e:\\anaconda3\\lib\\site-packages (2.2.2)\n",
      "Requirement already satisfied: opencv-python in e:\\anaconda3\\lib\\site-packages (4.11.0.86)\n",
      "Requirement already satisfied: face-recognition in e:\\anaconda3\\lib\\site-packages (1.3.0)\n",
      "Requirement already satisfied: scikit-learn in e:\\anaconda3\\lib\\site-packages (1.6.1)\n",
      "Requirement already satisfied: matplotlib in e:\\anaconda3\\lib\\site-packages (3.8.4)\n"
     ]
    },
    {
     "name": "stderr",
     "output_type": "stream",
     "text": [
      "ERROR: Could not find a version that satisfies the requirement smtplib (from versions: none)\n",
      "ERROR: No matching distribution found for smtplib\n"
     ]
    }
   ],
   "source": [
    "!pip install numpy pandas opencv-python face-recognition scikit-learn matplotlib smtplib email.message\n"
   ]
  },
  {
   "cell_type": "code",
   "execution_count": 2,
   "id": "12ea55a7-f57c-46e9-99e5-1034e460cc75",
   "metadata": {},
   "outputs": [
    {
     "name": "stdout",
     "output_type": "stream",
     "text": [
      "Requirement already satisfied: opencv-python in e:\\anaconda3\\lib\\site-packages (4.11.0.86)\n",
      "Requirement already satisfied: face-recognition in e:\\anaconda3\\lib\\site-packages (1.3.0)\n",
      "Requirement already satisfied: pandas in e:\\anaconda3\\lib\\site-packages (2.2.2)\n",
      "Requirement already satisfied: numpy in e:\\anaconda3\\lib\\site-packages (1.26.4)\n",
      "Requirement already satisfied: face-recognition-models>=0.3.0 in e:\\anaconda3\\lib\\site-packages (from face-recognition) (0.3.0)\n",
      "Requirement already satisfied: Click>=6.0 in e:\\anaconda3\\lib\\site-packages (from face-recognition) (8.1.7)\n",
      "Requirement already satisfied: dlib>=19.7 in e:\\anaconda3\\lib\\site-packages (from face-recognition) (19.24.6)\n",
      "Requirement already satisfied: Pillow in e:\\anaconda3\\lib\\site-packages (from face-recognition) (10.3.0)\n",
      "Requirement already satisfied: python-dateutil>=2.8.2 in e:\\anaconda3\\lib\\site-packages (from pandas) (2.9.0.post0)\n",
      "Requirement already satisfied: pytz>=2020.1 in e:\\anaconda3\\lib\\site-packages (from pandas) (2024.1)\n",
      "Requirement already satisfied: tzdata>=2022.7 in e:\\anaconda3\\lib\\site-packages (from pandas) (2023.3)\n",
      "Requirement already satisfied: colorama in e:\\anaconda3\\lib\\site-packages (from Click>=6.0->face-recognition) (0.4.6)\n",
      "Requirement already satisfied: six>=1.5 in e:\\anaconda3\\lib\\site-packages (from python-dateutil>=2.8.2->pandas) (1.16.0)\n",
      "Note: you may need to restart the kernel to use updated packages.\n"
     ]
    }
   ],
   "source": [
    "pip install opencv-python face-recognition pandas numpy\n"
   ]
  },
  {
   "cell_type": "code",
   "execution_count": 3,
   "id": "36676f4c-99c4-4d58-88d7-caf047b168d7",
   "metadata": {},
   "outputs": [],
   "source": [
    "import os\n",
    "import cv2\n",
    "import numpy as np\n",
    "import pandas as pd\n",
    "import face_recognition\n",
    "import shutil\n",
    "import smtplib\n",
    "import matplotlib.pyplot as plt\n",
    "from sklearn.model_selection import train_test_split\n",
    "from sklearn.svm import SVC\n",
    "from sklearn.metrics import accuracy_score, f1_score\n",
    "from email.message import EmailMessage\n",
    "from tkinter import filedialog, Tk\n"
   ]
  },
  {
   "cell_type": "code",
   "execution_count": 4,
   "id": "6e37e4f6-9f92-4e6c-890b-06579e1d2a11",
   "metadata": {},
   "outputs": [
    {
     "name": "stdout",
     "output_type": "stream",
     "text": [
      "✅ CSV file already exists.\n"
     ]
    }
   ],
   "source": [
    "csv_file = \"face_data.csv\"\n",
    "\n",
    "# Create the CSV file with headers if it doesn't exist\n",
    "if not os.path.exists(csv_file):\n",
    "    df = pd.DataFrame(columns=[\"Name\", \"Encoding\"])\n",
    "    df.to_csv(csv_file, index=False)\n",
    "    print(\"✅ CSV file created successfully.\")\n",
    "else:\n",
    "    print(\"✅ CSV file already exists.\")\n"
   ]
  },
  {
   "cell_type": "code",
   "execution_count": 1,
   "id": "d846cd2b-3186-4bc9-9ac2-dcda53399e95",
   "metadata": {},
   "outputs": [
    {
     "name": "stdout",
     "output_type": "stream",
     "text": [
      "\n",
      "Choose an option:\n",
      "1: Capture a live image using webcam\n",
      "2: Select an existing image from your computer\n",
      "3: Exit\n"
     ]
    },
    {
     "name": "stdin",
     "output_type": "stream",
     "text": [
      "Enter your choice (1, 2, or 3):  3\n"
     ]
    },
    {
     "name": "stdout",
     "output_type": "stream",
     "text": [
      "✅ Exiting image collection.\n"
     ]
    }
   ],
   "source": [
    "import os\n",
    "import cv2\n",
    "import shutil\n",
    "import time\n",
    "from tkinter import filedialog, Tk\n",
    "\n",
    "def capture_or_upload_face():\n",
    "    while True:\n",
    "        print(\"\\nChoose an option:\")\n",
    "        print(\"1: Capture a live image using webcam\")\n",
    "        print(\"2: Select an existing image from your computer\")\n",
    "        print(\"3: Exit\")\n",
    "\n",
    "        option = input(\"Enter your choice (1, 2, or 3): \").strip()\n",
    "\n",
    "        if option == \"3\":\n",
    "            print(\"✅ Exiting image collection.\")\n",
    "            break\n",
    "\n",
    "        elif option in [\"1\", \"2\"]:\n",
    "            while True:\n",
    "                person_type = input(\"Is this person 'Known' or 'Unknown'? (k/u): \").strip().lower()\n",
    "                if person_type == \"k\":\n",
    "                    name = input(\"Enter the person's name: \").strip()\n",
    "                    folder_path = \"faces/known\"\n",
    "                    break\n",
    "                elif person_type == \"u\":\n",
    "                    name = \"unknown\"\n",
    "                    folder_path = \"faces/unknown\"\n",
    "                    break\n",
    "                else:\n",
    "                    print(\"❌ Invalid input. Please enter 'k' for known or 'u' for unknown.\")\n",
    "\n",
    "            os.makedirs(folder_path, exist_ok=True)\n",
    "\n",
    "            if option == \"1\":  # Webcam Capture\n",
    "                cap = cv2.VideoCapture(0)\n",
    "\n",
    "                if not cap.isOpened():\n",
    "                    print(\"❌ Error: Could not open webcam. Exiting...\")\n",
    "                    return\n",
    "\n",
    "                count = len(os.listdir(folder_path)) + 1  # Unique index for naming\n",
    "\n",
    "                while True:\n",
    "                    ret, frame = cap.read()\n",
    "                    if not ret:\n",
    "                        print(\"❌ Failed to access webcam.\")\n",
    "                        break\n",
    "\n",
    "                    cv2.imshow(\"Capture Face - Press 'C' to Capture, 'Q' to Quit\", frame)\n",
    "                    key = cv2.waitKey(1) & 0xFF\n",
    "\n",
    "                    if key == ord('c'):\n",
    "                        image_path = f\"{folder_path}/{name}_{count}.jpg\"\n",
    "                        cv2.imwrite(image_path, frame)\n",
    "                        print(f\"✅ Image saved: {image_path}\")\n",
    "                        count += 1  # Increment index\n",
    "                        time.sleep(1)  # Small delay to avoid multiple captures at once\n",
    "\n",
    "                    elif key == ord('q'):\n",
    "                        print(\"📷 Exiting webcam capture mode.\")\n",
    "                        break\n",
    "\n",
    "                cap.release()\n",
    "                cv2.destroyAllWindows()\n",
    "\n",
    "            elif option == \"2\":  # Upload Image from File\n",
    "                root = Tk()\n",
    "                root.withdraw()\n",
    "                file_paths = filedialog.askopenfilenames(title=\"Select Images\",\n",
    "                                                        filetypes=[(\"Image Files\", \"*.jpg;*.jpeg;*.png\")])\n",
    "\n",
    "                if file_paths:\n",
    "                    for i, file_path in enumerate(file_paths):\n",
    "                        image_path = f\"{folder_path}/{name}_{i+1}.jpg\"\n",
    "                        shutil.copy(file_path, image_path)\n",
    "                        print(f\"✅ Image saved: {image_path}\")\n",
    "                else:\n",
    "                    print(\"❌ No image selected.\")\n",
    "\n",
    "        else:\n",
    "            print(\"❌ Invalid choice. Please enter 1, 2, or 3.\")\n",
    "\n",
    "capture_or_upload_face()\n"
   ]
  },
  {
   "cell_type": "code",
   "execution_count": 6,
   "id": "d70db3f8-b0f2-4fa3-bb2a-70cb1e67ba66",
   "metadata": {},
   "outputs": [
    {
     "name": "stdout",
     "output_type": "stream",
     "text": [
      "✅ Face encodings saved successfully.\n"
     ]
    }
   ],
   "source": [
    "import os\n",
    "import pandas as pd\n",
    "import face_recognition\n",
    "import numpy as np\n",
    "\n",
    "csv_file = \"face_data.csv\"\n",
    "face_dir = \"faces\"\n",
    "\n",
    "# ✅ Create the \"faces\" directory if it doesn't exist\n",
    "if not os.path.exists(face_dir):\n",
    "    os.makedirs(face_dir)\n",
    "    print(f\"📂 Created missing folder: {face_dir}\")\n",
    "\n",
    "def encode_faces():\n",
    "    df = pd.read_csv(csv_file) if os.path.exists(csv_file) else pd.DataFrame(columns=[\"Name\", \"Encoding\"])\n",
    "\n",
    "    for file in os.listdir(face_dir):\n",
    "        image_path = os.path.join(face_dir, file)\n",
    "\n",
    "        # ✅ Skip directories to avoid PermissionError\n",
    "        if os.path.isdir(image_path):\n",
    "            continue\n",
    "\n",
    "        image = face_recognition.load_image_file(image_path)\n",
    "        encodings = face_recognition.face_encodings(image)\n",
    "\n",
    "        if encodings:\n",
    "            encoding = encodings[0]\n",
    "            name = os.path.splitext(file)[0]  # Get the filename without extension\n",
    "\n",
    "            # ✅ Save encoding in DataFrame\n",
    "            df = df.append({\"Name\": name, \"Encoding\": \",\".join(map(str, encoding))}, ignore_index=True)\n",
    "\n",
    "    # ✅ Save to CSV\n",
    "    df.to_csv(csv_file, index=False)\n",
    "    print(\"✅ Face encodings saved successfully.\")\n",
    "\n",
    "# Run the function\n",
    "encode_faces()\n"
   ]
  },
  {
   "cell_type": "code",
   "execution_count": 7,
   "id": "b87da8bc-51c4-441e-84b0-407add434975",
   "metadata": {},
   "outputs": [
    {
     "name": "stdout",
     "output_type": "stream",
     "text": [
      "✅ Model Trained! Accuracy: 0.75, F1-score: 0.68\n"
     ]
    },
    {
     "data": {
      "image/png": "[encoded data removed]",
      "text/plain": [
       "<Figure size 500x400 with 1 Axes>"
      ]
     },
     "metadata": {},
     "output_type": "display_data"
    }
   ],
   "source": [
    "def train_svm_model():\n",
    "    df = pd.read_csv(csv_file)\n",
    "    X = [np.fromstring(enc, sep=',') for enc in df[\"Encoding\"].tolist()]\n",
    "    y = df[\"Name\"].tolist()\n",
    "\n",
    "    X_train, X_test, y_train, y_test = train_test_split(X, y, test_size=0.2, random_state=42)\n",
    "\n",
    "    model = SVC(kernel=\"linear\", probability=True)\n",
    "    model.fit(X_train, y_train)\n",
    "\n",
    "    y_pred = model.predict(X_test)\n",
    "    accuracy = accuracy_score(y_test, y_pred)\n",
    "    f1 = f1_score(y_test, y_pred, average=\"weighted\")\n",
    "\n",
    "    print(f\"✅ Model Trained! Accuracy: {accuracy:.2f}, F1-score: {f1:.2f}\")\n",
    "\n",
    "    # Plot accuracy and F1-score\n",
    "    plt.figure(figsize=(5, 4))\n",
    "    plt.bar([\"Accuracy\", \"F1-score\"], [accuracy, f1], color=['blue', 'green'])\n",
    "    plt.title(\"Model Performance\")\n",
    "    plt.ylim(0, 1)\n",
    "    plt.show()\n",
    "\n",
    "    return model\n",
    "\n",
    "model = train_svm_model()\n"
   ]
  },
  {
   "cell_type": "code",
   "execution_count": 2,
   "id": "e944317b-f6bf-41ec-8a1e-e3a606e2896c",
   "metadata": {},
   "outputs": [
    {
     "name": "stdout",
     "output_type": "stream",
     "text": [
      "✅ Abaid recognized. Door Opening Automatically...\n",
      "🚪 ✅ Door is OPENING for the person!\n",
      "❌ Unknown Person Detected. Sending Approval Request...\n",
      "📩 Email alert sent to admin! Waiting for 'ALLOW' button click...\n",
      "📩 Waiting for admin approval (60 seconds)...\n",
      "✅ Admin Approved! Door Opening for Unknown Person!\n",
      "🚪 ✅ Door is OPENING for the person!\n"
     ]
    }
   ],
   "source": [
    "import os\n",
    "import cv2\n",
    "import face_recognition\n",
    "import pandas as pd\n",
    "import numpy as np\n",
    "import time\n",
    "import smtplib\n",
    "import imaplib\n",
    "import email\n",
    "from email.message import EmailMessage\n",
    "\n",
    "# ✅ CSV file for known faces\n",
    "csv_file = \"face_data.csv\"\n",
    "\n",
    "# ✅ Admin Email Credentials (Use App Password)\n",
    "EMAIL_ADDRESS = \"meharmehar1065@gmail.com\"\n",
    "EMAIL_PASSWORD = \"mtgqzvuqbpgmmicp\"  # Replace with your App Password\n",
    "\n",
    "# ✅ SMTP and IMAP settings for Gmail\n",
    "SMTP_SERVER = \"smtp.gmail.com\"\n",
    "SMTP_PORT = 465\n",
    "IMAP_SERVER = \"imap.gmail.com\"\n",
    "\n",
    "# ✅ Simulate door opening\n",
    "def open_door():\n",
    "    print(\"🚪 ✅ Door is OPENING for the person!\")\n",
    "\n",
    "# ✅ Send email alert to admin with clickable 'ALLOW' button\n",
    "def send_email_alert():\n",
    "    msg = EmailMessage()\n",
    "    msg[\"Subject\"] = \"❌ Unknown Person Detected! Approval Required\"\n",
    "    msg[\"From\"] = EMAIL_ADDRESS\n",
    "    msg[\"To\"] = EMAIL_ADDRESS\n",
    "\n",
    "    # HTML email with clickable ALLOW button\n",
    "    email_content = \"\"\"\n",
    "    <html>\n",
    "        <body>\n",
    "            <p>📩 An unknown person is detected at the door.</p>\n",
    "            <p>Click the button below to approve access:</p>\n",
    "            <a href=\"mailto:meharmehar1065@gmail.com?subject=ALLOW&body=Approve Access\"\n",
    "               style=\"display: inline-block; background-color: green; color: white; padding: 10px 20px; text-decoration: none; font-size: 16px; border-radius: 5px;\">\n",
    "               ALLOW\n",
    "            </a>\n",
    "        </body>\n",
    "    </html>\n",
    "    \"\"\"\n",
    "    msg.add_alternative(email_content, subtype=\"html\")\n",
    "\n",
    "    with smtplib.SMTP_SSL(SMTP_SERVER, SMTP_PORT) as smtp:\n",
    "        smtp.login(EMAIL_ADDRESS, EMAIL_PASSWORD)\n",
    "        smtp.send_message(msg)\n",
    "\n",
    "    print(\"📩 Email alert sent to admin! Waiting for 'ALLOW' button click...\")\n",
    "\n",
    "# ✅ Check for admin approval (Wait EXACTLY 60 seconds)\n",
    "def check_email_approval(timeout=60):\n",
    "    start_time = time.time()\n",
    "    print(\"📩 Waiting for admin approval (60 seconds)...\")\n",
    "\n",
    "    while time.time() - start_time < timeout:\n",
    "        try:\n",
    "            with imaplib.IMAP4_SSL(IMAP_SERVER) as mail:\n",
    "                mail.login(EMAIL_ADDRESS, EMAIL_PASSWORD)\n",
    "                mail.select(\"inbox\")\n",
    "\n",
    "                result, data = mail.search(None, 'UNSEEN')  # Get unread emails\n",
    "                mail_ids = data[0].split()\n",
    "\n",
    "                if mail_ids:\n",
    "                    latest_email_id = mail_ids[-1]  # Get the latest email\n",
    "                    result, message_data = mail.fetch(latest_email_id, \"(RFC822)\")\n",
    "                    raw_email = message_data[0][1]\n",
    "                    msg = email.message_from_bytes(raw_email)\n",
    "\n",
    "                    subject = msg[\"Subject\"]\n",
    "                    if subject and \"ALLOW\" in subject.upper():\n",
    "                        print(\"✅ Admin Approved! Door Opening for Unknown Person!\")\n",
    "                        return True  # ✅ Exit and approve\n",
    "\n",
    "        except Exception as e:\n",
    "            print(f\"❌ Email Check Error: {e}\")\n",
    "\n",
    "        time.sleep(5)  # ✅ Check every 5 seconds\n",
    "\n",
    "    print(\"❌ No response from admin within 60 seconds. Door remains closed.\")\n",
    "    return False  # ✅ Timeout reached, no approval received\n",
    "\n",
    "# ✅ Load known faces from CSV file\n",
    "def load_known_faces():\n",
    "    if not os.path.exists(csv_file):\n",
    "        return [], []\n",
    "\n",
    "    df = pd.read_csv(csv_file)\n",
    "    known_names = df[\"Name\"].tolist()\n",
    "    known_encodings = [np.fromstring(enc, sep=\",\") for enc in df[\"Encoding\"].tolist()]\n",
    "    return known_names, known_encodings\n",
    "\n",
    "# ✅ Face recognition function (With Name Labels)\n",
    "def recognize_face():\n",
    "    known_names, known_encodings = load_known_faces()\n",
    "    cap = cv2.VideoCapture(0)\n",
    "\n",
    "    recognized_persons = set()  # Store recognized persons to avoid duplicate outputs\n",
    "    unknown_detected = False\n",
    "    approval_requested = False\n",
    "\n",
    "    while True:\n",
    "        ret, frame = cap.read()\n",
    "        if not ret:\n",
    "            continue  # Skip if frame is not captured properly\n",
    "\n",
    "        rgb_frame = cv2.cvtColor(frame, cv2.COLOR_BGR2RGB)\n",
    "        face_locations = face_recognition.face_locations(rgb_frame)\n",
    "        face_encodings = face_recognition.face_encodings(rgb_frame, face_locations)\n",
    "\n",
    "        detected_unknown = False\n",
    "\n",
    "        for face_encoding, face_location in zip(face_encodings, face_locations):\n",
    "            matches = face_recognition.compare_faces(known_encodings, face_encoding)\n",
    "            name = \"Unknown\"\n",
    "\n",
    "            if True in matches:\n",
    "                match_index = matches.index(True)\n",
    "                name = known_names[match_index]\n",
    "\n",
    "                if name not in recognized_persons:\n",
    "                    print(f\"✅ {name} recognized. Door Opening Automatically...\")\n",
    "                    open_door()\n",
    "                    recognized_persons.add(name)\n",
    "                    approval_requested = False  # Reset approval request for known persons\n",
    "\n",
    "            else:\n",
    "                detected_unknown = True\n",
    "\n",
    "                # ✅ Only send email ONCE per unknown person\n",
    "                if not unknown_detected:\n",
    "                    print(\"❌ Unknown Person Detected. Sending Approval Request...\")\n",
    "                    send_email_alert()\n",
    "                    unknown_detected = True\n",
    "                    approval_requested = True\n",
    "\n",
    "            # ✅ Draw rectangle and label around detected faces\n",
    "            top, right, bottom, left = face_location\n",
    "            color = (0, 255, 0) if name != \"Unknown\" else (0, 0, 255)\n",
    "            cv2.rectangle(frame, (left, top), (right, bottom), color, 2)\n",
    "\n",
    "            # ✅ Display name label above the face\n",
    "            cv2.putText(frame, name, (left, top - 10), cv2.FONT_HERSHEY_SIMPLEX, 0.7, color, 2, cv2.LINE_AA)\n",
    "\n",
    "        # ✅ Wait for admin approval (if requested)\n",
    "        if approval_requested:\n",
    "            admin_approved = check_email_approval()\n",
    "            if admin_approved:\n",
    "                open_door()\n",
    "\n",
    "            approval_requested = False  # Reset approval state\n",
    "            unknown_detected = False\n",
    "\n",
    "        cv2.imshow(\"Face Recognition\", frame)\n",
    "\n",
    "        # Press 'q' to quit\n",
    "        if cv2.waitKey(1) & 0xFF == ord('q'):\n",
    "            break\n",
    "\n",
    "    cap.release()\n",
    "    cv2.destroyAllWindows()\n",
    "\n",
    "# ✅ Run face recognition\n",
    "recognize_face()\n"
   ]
  },
  {
   "cell_type": "code",
   "execution_count": 9,
   "id": "4f65a39e-f24b-4a90-ac9b-60149292c22f",
   "metadata": {},
   "outputs": [
    {
     "ename": "NameError",
     "evalue": "name 'mtgqzvuqbpgmmicp' is not defined",
     "output_type": "error",
     "traceback": [
      "\u001b[1;31m---------------------------------------------------------------------------\u001b[0m",
      "\u001b[1;31mNameError\u001b[0m                                 Traceback (most recent call last)",
      "Cell \u001b[1;32mIn[9], line 1\u001b[0m\n\u001b[1;32m----> 1\u001b[0m mtgqzvuqbpgmmicp\n",
      "\u001b[1;31mNameError\u001b[0m: name 'mtgqzvuqbpgmmicp' is not defined"
     ]
    }
   ],
   "source": [
    "mtgqzvuqbpgmmicp"
   ]
  },
  {
   "cell_type": "code",
   "execution_count": null,
   "id": "2878b8f5-3657-4df4-9a20-d53031847c79",
   "metadata": {},
   "outputs": [],
   "source": []
  }
 ],
 "metadata": {
  "kernelspec": {
   "display_name": "Python 3 (ipykernel)",
   "language": "python",
   "name": "python3"
  },
  "language_info": {
   "codemirror_mode": {
    "name": "ipython",
    "version": 3
   },
   "file_extension": ".py",
   "mimetype": "text/x-python",
   "name": "python",
   "nbconvert_exporter": "python",
   "pygments_lexer": "ipython3",
   "version": "3.12.4"
  }
 },
 "nbformat": 4,
 "nbformat_minor": 5
}
